{
 "cells": [
  {
   "cell_type": "markdown",
   "metadata": {},
   "source": [
    "# some title here\n",
    "some description here"
   ]
  },
  {
   "cell_type": "code",
   "execution_count": null,
   "metadata": {},
   "outputs": [],
   "source": [
    "import os\n",
    "import glob\n",
    "import re\n",
    "import pandas as pd"
   ]
  },
  {
   "cell_type": "code",
   "execution_count": null,
   "metadata": {},
   "outputs": [],
   "source": [
    "dat_path = os.path.join(\"..\", \"dat\")\n",
    "fnames = sorted(glob.glob(os.path.join(dat_path, \"*.csv\")))\n",
    "targets = [\"postid\",\"kipnr\",\"kilde\",\"løbenr\",\"kildehenvisning\",\"stednavn\",\"husstands_familienr\",\"matr_nr_adresse\",\"navn\",\"køn\",\"alder\",\"civilstand\",\"erhverv\"]\n",
    "query = \"Thor\""
   ]
  },
  {
   "cell_type": "code",
   "execution_count": null,
   "metadata": {},
   "outputs": [],
   "source": [
    "# walk data sub-folder\n",
    "store = list()\n",
    "for fname in fnames:\n",
    "    try:\n",
    "        df = pd.read_csv(fname, \n",
    "                         delimiter=\"$\", \n",
    "                         encoding=\"ISO-8859-1\", \n",
    "                         error_bad_lines=False,\n",
    "                         warn_bad_lines=False,\n",
    "                         low_memory=False)# make warn_bad_lines=True, to see how many rows you are missing\n",
    "        print(\"valid {}\".format(fname))\n",
    "        df.columns = [colname.lower() for colname in df.columns]        \n",
    "        df = df[targets]\n",
    "        idx = df[\"navn\"].str.contains(query, regex=False, na=False)\n",
    "        df = df.loc[idx]     \n",
    "        n = df.shape[0]\n",
    "        yr = int(re.findall(r\"\\d+\", os.path.basename(fname).split(\"_\")[0])[0])\n",
    "        df[\"year\"] = [yr for _ in range(n)]\n",
    "        store.append(df)\n",
    "    except:\n",
    "        print(\"invalid {}\".format(fname))\n",
    "\n",
    "DF = pd.concat(store)"
   ]
  },
  {
   "cell_type": "code",
   "execution_count": null,
   "metadata": {},
   "outputs": [],
   "source": [
    "DF.to_csv(os.path.join(dat_path,\"merge_{}.dat\".format(query.lower())), index=False)"
   ]
  }
 ],
 "metadata": {
  "kernelspec": {
   "display_name": "nuke",
   "language": "python",
   "name": "nuke"
  },
  "language_info": {
   "codemirror_mode": {
    "name": "ipython",
    "version": 3
   },
   "file_extension": ".py",
   "mimetype": "text/x-python",
   "name": "python",
   "nbconvert_exporter": "python",
   "pygments_lexer": "ipython3",
   "version": "3.6.7"
  }
 },
 "nbformat": 4,
 "nbformat_minor": 2
}
